{
  "nbformat": 4,
  "nbformat_minor": 0,
  "metadata": {
    "colab": {
      "provenance": [],
      "authorship_tag": "ABX9TyP6rGMhlVYEBsydHwHkcR2A",
      "include_colab_link": true
    },
    "kernelspec": {
      "name": "python3",
      "display_name": "Python 3"
    },
    "language_info": {
      "name": "python"
    }
  },
  "cells": [
    {
      "cell_type": "markdown",
      "metadata": {
        "id": "view-in-github",
        "colab_type": "text"
      },
      "source": [
        "<a href=\"https://colab.research.google.com/github/Ardit-K/DataAnalysisPython/blob/main/Python_testing.ipynb\" target=\"_parent\"><img src=\"https://colab.research.google.com/assets/colab-badge.svg\" alt=\"Open In Colab\"/></a>"
      ]
    },
    {
      "cell_type": "code",
      "execution_count": 2,
      "metadata": {
        "id": "EmBZgwj3jaFD"
      },
      "outputs": [],
      "source": [
        "import numpy as np"
      ]
    },
    {
      "cell_type": "code",
      "source": [
        "list = [0, 1, 2, 3, 4, 5, 6, 7, 8]\n",
        "\n",
        "mtx = np.array([\n",
        "    [list[0], list[1], list[2]],\n",
        "    [list[3], list[4], list[5]],\n",
        "    [list[6], list[7], list[8]]\n",
        "])"
      ],
      "metadata": {
        "id": "xCdcfn6ojdlQ"
      },
      "execution_count": null,
      "outputs": []
    },
    {
      "cell_type": "code",
      "source": [
        "mtx.shape"
      ],
      "metadata": {
        "colab": {
          "base_uri": "https://localhost:8080/"
        },
        "id": "p7I4ZCeCju7s",
        "outputId": "c25e86b8-b734-444c-a472-445d0aaad006"
      },
      "execution_count": null,
      "outputs": [
        {
          "output_type": "execute_result",
          "data": {
            "text/plain": [
              "(3, 3)"
            ]
          },
          "metadata": {},
          "execution_count": 4
        }
      ]
    },
    {
      "cell_type": "code",
      "source": [
        "mtx"
      ],
      "metadata": {
        "colab": {
          "base_uri": "https://localhost:8080/"
        },
        "id": "xItHIbYtjxI8",
        "outputId": "360de6c7-5872-40cc-9b9f-4c7b444f9c95"
      },
      "execution_count": null,
      "outputs": [
        {
          "output_type": "execute_result",
          "data": {
            "text/plain": [
              "array([[0, 1, 2],\n",
              "       [3, 4, 5],\n",
              "       [6, 7, 8]])"
            ]
          },
          "metadata": {},
          "execution_count": 6
        }
      ]
    },
    {
      "cell_type": "code",
      "source": [
        "np.max(mtx)"
      ],
      "metadata": {
        "colab": {
          "base_uri": "https://localhost:8080/"
        },
        "id": "U3Lhf7WMjzJ5",
        "outputId": "91366155-6502-4a21-db98-bcc4ca841480"
      },
      "execution_count": null,
      "outputs": [
        {
          "output_type": "execute_result",
          "data": {
            "text/plain": [
              "8"
            ]
          },
          "metadata": {},
          "execution_count": 8
        }
      ]
    },
    {
      "cell_type": "code",
      "source": [
        "np.max(mtx, axis=0)"
      ],
      "metadata": {
        "colab": {
          "base_uri": "https://localhost:8080/"
        },
        "id": "Y58zkYrwj162",
        "outputId": "ec18476d-2334-4fcb-af7a-12d4de4afb50"
      },
      "execution_count": null,
      "outputs": [
        {
          "output_type": "execute_result",
          "data": {
            "text/plain": [
              "array([6, 7, 8])"
            ]
          },
          "metadata": {},
          "execution_count": 10
        }
      ]
    },
    {
      "cell_type": "code",
      "source": [
        "np.sum(mtx, axis=0)"
      ],
      "metadata": {
        "colab": {
          "base_uri": "https://localhost:8080/"
        },
        "id": "s-Px7yNQj40K",
        "outputId": "a03f77fa-8cd6-4690-c8af-507176f918c5"
      },
      "execution_count": null,
      "outputs": [
        {
          "output_type": "execute_result",
          "data": {
            "text/plain": [
              "array([ 9, 12, 15])"
            ]
          },
          "metadata": {},
          "execution_count": 11
        }
      ]
    },
    {
      "cell_type": "code",
      "source": [
        "np.sum(mtx, axis=1)"
      ],
      "metadata": {
        "id": "G8CMv4AWkPDR",
        "outputId": "421573b3-364a-4156-e192-b220503da886",
        "colab": {
          "base_uri": "https://localhost:8080/"
        }
      },
      "execution_count": null,
      "outputs": [
        {
          "output_type": "execute_result",
          "data": {
            "text/plain": [
              "array([ 3, 12, 21])"
            ]
          },
          "metadata": {},
          "execution_count": 12
        }
      ]
    },
    {
      "cell_type": "code",
      "source": [
        "np.sum(mtx)"
      ],
      "metadata": {
        "id": "FXWajB57kRXh",
        "outputId": "9c21f1f4-0650-4fe2-9d6e-ec0c1c90f637",
        "colab": {
          "base_uri": "https://localhost:8080/"
        }
      },
      "execution_count": null,
      "outputs": [
        {
          "output_type": "execute_result",
          "data": {
            "text/plain": [
              "36"
            ]
          },
          "metadata": {},
          "execution_count": 13
        }
      ]
    },
    {
      "cell_type": "code",
      "source": [
        "back = np.ones((5,5), dtype=np.int8)\n",
        "back"
      ],
      "metadata": {
        "id": "gGcfZirRkTjG",
        "colab": {
          "base_uri": "https://localhost:8080/"
        },
        "outputId": "7f8270ea-a03b-4feb-c286-044768f32e76"
      },
      "execution_count": 7,
      "outputs": [
        {
          "output_type": "execute_result",
          "data": {
            "text/plain": [
              "array([[1, 1, 1, 1, 1],\n",
              "       [1, 1, 1, 1, 1],\n",
              "       [1, 1, 1, 1, 1],\n",
              "       [1, 1, 1, 1, 1],\n",
              "       [1, 1, 1, 1, 1]], dtype=int8)"
            ]
          },
          "metadata": {},
          "execution_count": 7
        }
      ]
    },
    {
      "cell_type": "code",
      "source": [
        "mid = np.zeros((3,3), dtype=np.int8)"
      ],
      "metadata": {
        "id": "zeqUJlUczE1M"
      },
      "execution_count": 9,
      "outputs": []
    },
    {
      "cell_type": "code",
      "source": [
        "mid[1,1] = 9\n",
        "mid"
      ],
      "metadata": {
        "colab": {
          "base_uri": "https://localhost:8080/"
        },
        "id": "JU8mXfAEzKw_",
        "outputId": "03d20168-5e7f-459c-ed74-c57d29591031"
      },
      "execution_count": 11,
      "outputs": [
        {
          "output_type": "execute_result",
          "data": {
            "text/plain": [
              "array([[0, 0, 0],\n",
              "       [0, 9, 0],\n",
              "       [0, 0, 0]], dtype=int8)"
            ]
          },
          "metadata": {},
          "execution_count": 11
        }
      ]
    },
    {
      "cell_type": "code",
      "source": [
        "back[1:-1, 1:-1] = mid\n",
        "back"
      ],
      "metadata": {
        "colab": {
          "base_uri": "https://localhost:8080/"
        },
        "id": "q0FjCvEOzcFH",
        "outputId": "0946b621-c4ff-4b80-a328-aa45c9ccf525"
      },
      "execution_count": 13,
      "outputs": [
        {
          "output_type": "execute_result",
          "data": {
            "text/plain": [
              "array([[1, 1, 1, 1, 1],\n",
              "       [1, 0, 0, 0, 1],\n",
              "       [1, 0, 9, 0, 1],\n",
              "       [1, 0, 0, 0, 1],\n",
              "       [1, 1, 1, 1, 1]], dtype=int8)"
            ]
          },
          "metadata": {},
          "execution_count": 13
        }
      ]
    },
    {
      "cell_type": "code",
      "source": [
        "back ** 2"
      ],
      "metadata": {
        "colab": {
          "base_uri": "https://localhost:8080/"
        },
        "id": "JceqLBZA0kgS",
        "outputId": "69c0c0b8-ce82-41c4-a79b-dc90a5350866"
      },
      "execution_count": 16,
      "outputs": [
        {
          "output_type": "execute_result",
          "data": {
            "text/plain": [
              "array([[ 1,  1,  1,  1,  1],\n",
              "       [ 1,  0,  0,  0,  1],\n",
              "       [ 1,  0, 81,  0,  1],\n",
              "       [ 1,  0,  0,  0,  1],\n",
              "       [ 1,  1,  1,  1,  1]], dtype=int8)"
            ]
          },
          "metadata": {},
          "execution_count": 16
        }
      ]
    },
    {
      "cell_type": "code",
      "source": [
        "back * 4"
      ],
      "metadata": {
        "colab": {
          "base_uri": "https://localhost:8080/"
        },
        "id": "JpUNuSdC0oIk",
        "outputId": "439eeed2-b4b7-43f1-e551-79b36df6f8f3"
      },
      "execution_count": 17,
      "outputs": [
        {
          "output_type": "execute_result",
          "data": {
            "text/plain": [
              "array([[ 4,  4,  4,  4,  4],\n",
              "       [ 4,  0,  0,  0,  4],\n",
              "       [ 4,  0, 36,  0,  4],\n",
              "       [ 4,  0,  0,  0,  4],\n",
              "       [ 4,  4,  4,  4,  4]], dtype=int8)"
            ]
          },
          "metadata": {},
          "execution_count": 17
        }
      ]
    },
    {
      "cell_type": "code",
      "source": [
        "np.sin(back)"
      ],
      "metadata": {
        "colab": {
          "base_uri": "https://localhost:8080/"
        },
        "id": "esDoBLyb0qFc",
        "outputId": "992c221a-2a77-43b4-c771-36bba1ff42a6"
      },
      "execution_count": 18,
      "outputs": [
        {
          "output_type": "execute_result",
          "data": {
            "text/plain": [
              "array([[0.8413, 0.8413, 0.8413, 0.8413, 0.8413],\n",
              "       [0.8413, 0.    , 0.    , 0.    , 0.8413],\n",
              "       [0.8413, 0.    , 0.412 , 0.    , 0.8413],\n",
              "       [0.8413, 0.    , 0.    , 0.    , 0.8413],\n",
              "       [0.8413, 0.8413, 0.8413, 0.8413, 0.8413]], dtype=float16)"
            ]
          },
          "metadata": {},
          "execution_count": 18
        }
      ]
    },
    {
      "cell_type": "markdown",
      "source": [
        "##### Linear Algebra"
      ],
      "metadata": {
        "id": "FShpiCqF1AjJ"
      }
    },
    {
      "cell_type": "code",
      "source": [
        "# Matrix Multiplication\n",
        "a = np.ones((2,3))\n",
        "print(a)\n",
        "b = np.full((3,2), 2)\n",
        "print(b)"
      ],
      "metadata": {
        "colab": {
          "base_uri": "https://localhost:8080/"
        },
        "id": "PzJLSsAt1COd",
        "outputId": "4ba49e46-0ecc-4bd3-b75d-fd563840093d"
      },
      "execution_count": 22,
      "outputs": [
        {
          "output_type": "stream",
          "name": "stdout",
          "text": [
            "[[1. 1. 1.]\n",
            " [1. 1. 1.]]\n",
            "[[2 2]\n",
            " [2 2]\n",
            " [2 2]]\n"
          ]
        }
      ]
    },
    {
      "cell_type": "code",
      "source": [
        "np.matmul(a,b)"
      ],
      "metadata": {
        "colab": {
          "base_uri": "https://localhost:8080/"
        },
        "id": "ippS6XO11MfT",
        "outputId": "b7ecc9e4-97d8-4517-b4f1-6445bbc40d74"
      },
      "execution_count": 23,
      "outputs": [
        {
          "output_type": "execute_result",
          "data": {
            "text/plain": [
              "array([[6., 6.],\n",
              "       [6., 6.]])"
            ]
          },
          "metadata": {},
          "execution_count": 23
        }
      ]
    },
    {
      "cell_type": "code",
      "source": [
        "#Determinant\n",
        "c = np.identity(3)\n",
        "np.linalg.det(c)"
      ],
      "metadata": {
        "colab": {
          "base_uri": "https://localhost:8080/"
        },
        "id": "lp-HdDOl1vL6",
        "outputId": "d85b8e8e-ce83-4b21-f2bb-97de78150862"
      },
      "execution_count": 24,
      "outputs": [
        {
          "output_type": "execute_result",
          "data": {
            "text/plain": [
              "1.0"
            ]
          },
          "metadata": {},
          "execution_count": 24
        }
      ]
    },
    {
      "cell_type": "markdown",
      "source": [
        "##### Statistics"
      ],
      "metadata": {
        "id": "BnQnT3PC2JgK"
      }
    },
    {
      "cell_type": "code",
      "source": [
        "stats = np.array([[1, 2, 3], [4, 5, 6]])\n",
        "stats"
      ],
      "metadata": {
        "colab": {
          "base_uri": "https://localhost:8080/"
        },
        "id": "kgcAPot_2LjH",
        "outputId": "545ddd22-cf44-4f6e-bfdb-6a10ddcdd4f7"
      },
      "execution_count": 25,
      "outputs": [
        {
          "output_type": "execute_result",
          "data": {
            "text/plain": [
              "array([[1, 2, 3],\n",
              "       [4, 5, 6]])"
            ]
          },
          "metadata": {},
          "execution_count": 25
        }
      ]
    },
    {
      "cell_type": "code",
      "source": [
        "np.min(stats)"
      ],
      "metadata": {
        "colab": {
          "base_uri": "https://localhost:8080/"
        },
        "id": "WrC4mx0M2Rvp",
        "outputId": "89587eeb-afff-418a-b135-d33a5ab6f77e"
      },
      "execution_count": 26,
      "outputs": [
        {
          "output_type": "execute_result",
          "data": {
            "text/plain": [
              "1"
            ]
          },
          "metadata": {},
          "execution_count": 26
        }
      ]
    },
    {
      "cell_type": "code",
      "source": [
        "np.max(stats)"
      ],
      "metadata": {
        "colab": {
          "base_uri": "https://localhost:8080/"
        },
        "id": "O7LSslFB2VRi",
        "outputId": "8a7e633a-6bc7-447e-cbb5-ad82e8e0a9c9"
      },
      "execution_count": 27,
      "outputs": [
        {
          "output_type": "execute_result",
          "data": {
            "text/plain": [
              "6"
            ]
          },
          "metadata": {},
          "execution_count": 27
        }
      ]
    },
    {
      "cell_type": "markdown",
      "source": [
        "##### Reorganizing Arrays"
      ],
      "metadata": {
        "id": "M3lqVjrm29Wk"
      }
    },
    {
      "cell_type": "code",
      "source": [
        "before = np.array([[1, 2, 3, 4], [5, 6, 7, 8]])\n",
        "print(before)\n",
        "\n",
        "after = before.reshape((8,1))\n",
        "print(after)"
      ],
      "metadata": {
        "colab": {
          "base_uri": "https://localhost:8080/"
        },
        "id": "jJ09ikhe2_FH",
        "outputId": "a939706e-8b4f-48bf-df8c-e15b9df9d3cd"
      },
      "execution_count": 30,
      "outputs": [
        {
          "output_type": "stream",
          "name": "stdout",
          "text": [
            "[[1 2 3 4]\n",
            " [5 6 7 8]]\n",
            "[[1]\n",
            " [2]\n",
            " [3]\n",
            " [4]\n",
            " [5]\n",
            " [6]\n",
            " [7]\n",
            " [8]]\n"
          ]
        }
      ]
    },
    {
      "cell_type": "code",
      "source": [
        "#Vertically stacking\n",
        "v1 = np.array([1, 2, 3, 4])\n",
        "v2 = np.array([5, 6, 7, 8])\n",
        "\n",
        "np.vstack([v1, v2, v2, v2])"
      ],
      "metadata": {
        "colab": {
          "base_uri": "https://localhost:8080/"
        },
        "id": "m9Qk8cNX3DqH",
        "outputId": "e76e0fca-b591-496d-fcc3-384dc43f09f9"
      },
      "execution_count": 32,
      "outputs": [
        {
          "output_type": "execute_result",
          "data": {
            "text/plain": [
              "array([[1, 2, 3, 4],\n",
              "       [5, 6, 7, 8],\n",
              "       [5, 6, 7, 8],\n",
              "       [5, 6, 7, 8]])"
            ]
          },
          "metadata": {},
          "execution_count": 32
        }
      ]
    },
    {
      "cell_type": "code",
      "source": [
        "#Horizontal Stack\n",
        "h1 = np.ones((2,4))\n",
        "h2 = np.zeros((2,2))\n",
        "\n",
        "np.hstack((h1,h2))"
      ],
      "metadata": {
        "colab": {
          "base_uri": "https://localhost:8080/"
        },
        "id": "Uq1vj2ep3sdY",
        "outputId": "9c3afa10-61e6-4ce2-aa5d-b16f7a4bfb77"
      },
      "execution_count": 35,
      "outputs": [
        {
          "output_type": "execute_result",
          "data": {
            "text/plain": [
              "array([[1., 1., 1., 1., 0., 0.],\n",
              "       [1., 1., 1., 1., 0., 0.]])"
            ]
          },
          "metadata": {},
          "execution_count": 35
        }
      ]
    },
    {
      "cell_type": "markdown",
      "source": [
        "## Miscellaneous"
      ],
      "metadata": {
        "id": "PjcdiWRy4dZD"
      }
    },
    {
      "cell_type": "markdown",
      "source": [
        "### Load Data from File"
      ],
      "metadata": {
        "id": "-EeGkUTJ4iPX"
      }
    },
    {
      "cell_type": "code",
      "source": [
        "np.genfromtxt(\"\", delimiter= ',')"
      ],
      "metadata": {
        "id": "ssodNBgw4j3k"
      },
      "execution_count": null,
      "outputs": []
    },
    {
      "cell_type": "markdown",
      "source": [
        "### Boolean Masking and Advanced Indexing"
      ],
      "metadata": {
        "id": "DLwdCXHZ5GL8"
      }
    },
    {
      "cell_type": "code",
      "source": [
        "a = np.random.randint(0, 100, (10,10))\n",
        "print(a)"
      ],
      "metadata": {
        "colab": {
          "base_uri": "https://localhost:8080/"
        },
        "id": "i3ALD_Zj5IVW",
        "outputId": "7965fd14-72a2-4ba1-e1b6-9b7a5fe6c2cf"
      },
      "execution_count": 36,
      "outputs": [
        {
          "output_type": "stream",
          "name": "stdout",
          "text": [
            "[[ 8 45 36  2 68 42 40 38 10 68]\n",
            " [65 58 80 65 95 17 69 89 56 52]\n",
            " [64 30 54 50 45 68 87 76 25 18]\n",
            " [13  2  0 45 94 36 25 30 40 41]\n",
            " [66 61 55 70 64 37 85 73 71 33]\n",
            " [42 71  6  8 36 12 17 19 80 93]\n",
            " [75 15 19 46 47 14  0 37 49 25]\n",
            " [95 39 11 38 26 43 63 61  5 26]\n",
            " [68 11 93 70 97 52 57 28 60 55]\n",
            " [21 76 46 20 50 16 22  4 99 59]]\n"
          ]
        }
      ]
    },
    {
      "cell_type": "code",
      "source": [
        "a <50"
      ],
      "metadata": {
        "colab": {
          "base_uri": "https://localhost:8080/"
        },
        "id": "kcmaw8IE5Qy0",
        "outputId": "eebe646e-f2d1-40e1-9b53-45f1fe62fa0e"
      },
      "execution_count": 39,
      "outputs": [
        {
          "output_type": "execute_result",
          "data": {
            "text/plain": [
              "array([[ True,  True,  True,  True, False,  True,  True,  True,  True,\n",
              "        False],\n",
              "       [False, False, False, False, False,  True, False, False, False,\n",
              "        False],\n",
              "       [False,  True, False, False,  True, False, False, False,  True,\n",
              "         True],\n",
              "       [ True,  True,  True,  True, False,  True,  True,  True,  True,\n",
              "         True],\n",
              "       [False, False, False, False, False,  True, False, False, False,\n",
              "         True],\n",
              "       [ True, False,  True,  True,  True,  True,  True,  True, False,\n",
              "        False],\n",
              "       [False,  True,  True,  True,  True,  True,  True,  True,  True,\n",
              "         True],\n",
              "       [False,  True,  True,  True,  True,  True, False, False,  True,\n",
              "         True],\n",
              "       [False,  True, False, False, False, False, False,  True, False,\n",
              "        False],\n",
              "       [ True, False,  True,  True, False,  True,  True,  True, False,\n",
              "        False]])"
            ]
          },
          "metadata": {},
          "execution_count": 39
        }
      ]
    },
    {
      "cell_type": "code",
      "source": [
        "a[a < 50]"
      ],
      "metadata": {
        "colab": {
          "base_uri": "https://localhost:8080/"
        },
        "id": "bpwja2Ph5ayq",
        "outputId": "dac0b8cc-b3c6-4c19-817f-2c389000eac6"
      },
      "execution_count": 41,
      "outputs": [
        {
          "output_type": "execute_result",
          "data": {
            "text/plain": [
              "array([ 8, 45, 36,  2, 42, 40, 38, 10, 17, 30, 45, 25, 18, 13,  2,  0, 45,\n",
              "       36, 25, 30, 40, 41, 37, 33, 42,  6,  8, 36, 12, 17, 19, 15, 19, 46,\n",
              "       47, 14,  0, 37, 49, 25, 39, 11, 38, 26, 43,  5, 26, 11, 28, 21, 46,\n",
              "       20, 16, 22,  4])"
            ]
          },
          "metadata": {},
          "execution_count": 41
        }
      ]
    },
    {
      "cell_type": "code",
      "source": [
        "# Index with a list in numpy\n",
        "a = np.array([1, 2, 3, 4, 5, 6, 7, 8])\n",
        "print(a[[1, 3, 5]])"
      ],
      "metadata": {
        "colab": {
          "base_uri": "https://localhost:8080/"
        },
        "id": "teT0Oryq5ccy",
        "outputId": "aa293b2c-9d54-4f86-dcff-6776588ba573"
      },
      "execution_count": 43,
      "outputs": [
        {
          "output_type": "stream",
          "name": "stdout",
          "text": [
            "[2 4 6]\n"
          ]
        }
      ]
    },
    {
      "cell_type": "code",
      "source": [],
      "metadata": {
        "id": "MoDRbI6t5tei"
      },
      "execution_count": null,
      "outputs": []
    }
  ]
}